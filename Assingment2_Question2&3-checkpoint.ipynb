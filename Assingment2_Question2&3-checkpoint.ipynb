{
 "cells": [
  {
   "cell_type": "code",
   "execution_count": 27,
   "metadata": {},
   "outputs": [],
   "source": [
    "#import libraries\n",
    "import numpy as np\n",
    "import nltk\n",
    "import pandas as pd"
   ]
  },
  {
   "cell_type": "code",
   "execution_count": 28,
   "metadata": {},
   "outputs": [],
   "source": [
    "#read all the text files from syste,=m\n",
    "from nltk.corpus.reader import PlaintextCorpusReader\n",
    "mycorpus = PlaintextCorpusReader(r\"C:\\Users\\T0253VK\\Desktop\\HOME\\ForMS\\Information_Retreival_5810\\Assignment\"\n",
    "                                 \"\\Assignment2\\CSI58100TextFiles-20181001\",r\".*\\.txt\")"
   ]
  },
  {
   "cell_type": "code",
   "execution_count": 29,
   "metadata": {},
   "outputs": [
    {
     "name": "stdout",
     "output_type": "stream",
     "text": [
      "['7oldsamr.txt', 'alissadl.txt', 'aminegg.txt', 'bestwish.txt', 'burn.txt', 'crabhern.txt', 'mydream.txt', 'narciss.txt']\n"
     ]
    }
   ],
   "source": [
    "#print text file names\n",
    "print(mycorpus.fileids())"
   ]
  },
  {
   "cell_type": "code",
   "execution_count": 30,
   "metadata": {},
   "outputs": [
    {
     "data": {
      "text/plain": [
       "str"
      ]
     },
     "execution_count": 30,
     "metadata": {},
     "output_type": "execute_result"
    }
   ],
   "source": [
    "#What type of data is there in the text files\n",
    "type(mycorpus.raw())"
   ]
  },
  {
   "cell_type": "code",
   "execution_count": 31,
   "metadata": {},
   "outputs": [],
   "source": [
    "#print(mycorpus.raw())"
   ]
  },
  {
   "cell_type": "code",
   "execution_count": 32,
   "metadata": {},
   "outputs": [
    {
     "name": "stdout",
     "output_type": "stream",
     "text": [
      "['Once', 'upon', 'a', 'time', '.', '.', '.', 'in', ...]\n"
     ]
    }
   ],
   "source": [
    "#Get all the words from the text files\n",
    "for fileid in mycorpus.fileids():\n",
    "    mywords = mycorpus.words((fileid))\n",
    "print(mywords)"
   ]
  },
  {
   "cell_type": "code",
   "execution_count": 33,
   "metadata": {},
   "outputs": [
    {
     "name": "stdout",
     "output_type": "stream",
     "text": [
      "['The', 'robbers', 'lived', 'in', 'a', 'large', 'cave', 'where', 'they', 'had', 'piled', 'their', 'spoils', '.']\n",
      "['Now', 'and', 'again', ',', 'they', 'went', 'down', 'the', 'mountain', ',', 'attacked', 'a', 'village', ',', 'murdered', 'the', 'poor', 'folk', 'they', 'chanced', 'upon', ',', 'stole', 'whatever', 'they', 'could', 'lay', 'hands', 'on', 'and', 'burned', 'it', 'to', 'the', 'ground', '.']\n",
      "['Wherever', 'the', 'robbers', 'passed', ',', 'there', 'was', 'nothing', 'but', 'smoking', 'ruins', ',', 'weeping', 'men', 'and', 'women', ',', 'misery', ',', 'mournlng', 'and', 'desolation', '.']\n",
      "['The', 'Emperor', ',', 'worried', 'at', 'this', ',', 'had', 'sent', 'his', 'soldiers', 'to', 'attack', 'the', 'mountain', ',', 'but', 'the', 'robbers', 'had', 'always', 'managed', 'to', 'drive', 'them', 'off', '.']\n",
      "['The', 'Emperor', 'sent', 'for', 'one', 'of', 'the', 'last', 'remaining', 'Samurai', ',', 'old', 'Raiko', ',', 'and', 'said', 'to', 'him', ':', '\"', 'Raiko', ',', 'you', \"'\", 've', 'served', 'me', 'for', 'many', 'years', '.']\n"
     ]
    }
   ],
   "source": [
    "#Print words from text files\n",
    "#print(mycorpus.sents('7oldsamr.txt'))\n",
    "print(mycorpus.sents()[1])\n",
    "print(mycorpus.sents()[2])"
   ]
  },
  {
   "cell_type": "code",
   "execution_count": 34,
   "metadata": {},
   "outputs": [
    {
     "name": "stdout",
     "output_type": "stream",
     "text": [
      "['Once', 'upon', 'a', 'time', '.']\n"
     ]
    }
   ],
   "source": [
    " #Prints first sentence of the third file\n",
    "print(mycorpus.sents(mycorpus.fileids()[2])[0])"
   ]
  },
  {
   "cell_type": "code",
   "execution_count": 35,
   "metadata": {},
   "outputs": [],
   "source": [
    "indx = 0\n",
    "list1 = []\n",
    "for fileid in mycorpus.fileids():\n",
    "    mylist = mycorpus.raw(fileid)\n",
    "    indx = indx + 1\n",
    "    list1.append(mylist)"
   ]
  },
  {
   "cell_type": "code",
   "execution_count": 36,
   "metadata": {},
   "outputs": [
    {
     "name": "stdout",
     "output_type": "stream",
     "text": [
      "(8,)\n",
      "8\n"
     ]
    }
   ],
   "source": [
    "#Get sharpe and size\n",
    "corpus = np.array(list1)\n",
    "print(corpus.shape)\n",
    "print(corpus.size)"
   ]
  },
  {
   "cell_type": "code",
   "execution_count": 37,
   "metadata": {},
   "outputs": [
    {
     "data": {
      "text/plain": [
       "CountVectorizer(analyzer='word', binary='true', decode_error='strict',\n",
       "        dtype=<class 'numpy.int64'>, encoding='utf-8', input='content',\n",
       "        lowercase=True, max_df=1.0, max_features=None, min_df=1,\n",
       "        ngram_range=(1, 1), preprocessor=None, stop_words='english',\n",
       "        strip_accents=None, token_pattern='(?u)\\\\b\\\\w\\\\w+\\\\b',\n",
       "        tokenizer=None, vocabulary=None)"
      ]
     },
     "execution_count": 37,
     "metadata": {},
     "output_type": "execute_result"
    }
   ],
   "source": [
    "#Convert to lower string and remove stop words and make a boolean matrix using binary = true\n",
    "from sklearn.feature_extraction.text import CountVectorizer\n",
    "vect = CountVectorizer()\n",
    "vect = CountVectorizer(stop_words='english',binary='true')\n",
    "vect.fit(corpus)"
   ]
  },
  {
   "cell_type": "code",
   "execution_count": 38,
   "metadata": {},
   "outputs": [],
   "source": [
    "#print(vect.get_feature_names())"
   ]
  },
  {
   "cell_type": "code",
   "execution_count": 39,
   "metadata": {},
   "outputs": [
    {
     "name": "stdout",
     "output_type": "stream",
     "text": [
      "Vocabulary size : 801\n"
     ]
    }
   ],
   "source": [
    "#get vocabulary size\n",
    "print(\"Vocabulary size : {}\".format(len(vect.vocabulary_)))"
   ]
  },
  {
   "cell_type": "code",
   "execution_count": 40,
   "metadata": {},
   "outputs": [],
   "source": [
    "#print(\"Vocabulary content :\\n {}\".format(vect.vocabulary_))"
   ]
  },
  {
   "cell_type": "code",
   "execution_count": 41,
   "metadata": {},
   "outputs": [
    {
     "name": "stdout",
     "output_type": "stream",
     "text": [
      "(8, 801)\n",
      "[[0 0 0 ... 1 1 0]\n",
      " [0 1 0 ... 0 0 0]\n",
      " [0 0 0 ... 1 0 0]\n",
      " ...\n",
      " [0 0 0 ... 0 0 0]\n",
      " [0 0 0 ... 0 0 0]\n",
      " [0 0 0 ... 0 1 0]]\n",
      "['armour' 'army' 'ate' 'attack' 'attacked' 'band' 'bandits' 'battered'\n",
      " 'beggars' 'bidding' 'blink' 'bloodthirsty' 'blowing' 'bottle' 'burned'\n",
      " 'cares' 'cave' 'chanced' 'climb' 'clouds' 'cold' 'come' 'command'\n",
      " 'contained' 'corner' 'covered' 'days' 'dead' 'desolation' 'dressed'\n",
      " 'drink' 'drive' 'dropped' 'eat' 'emperor' 'emptied' 'eye' 'faith' 'far'\n",
      " 'feet' 'fierce' 'folk' 'food' 'force' 'gang' 'goatskin' 'good' 'grey'\n",
      " 'ground' 'hands' 'head' 'health' 'held' 'help' 'hiding' 'horses'\n",
      " 'hospitality' 'hours' 'huddled' 'humble' 'humbly' 'japan' 'journey'\n",
      " 'large' 'later' 'lay' 'leader' 'leftovers' 'let' 'like' 'liqueur' 'lived'\n",
      " 'll' 'longer' 'majesty' 'managed' 'marauding' 'meal' 'men' 'misery'\n",
      " 'mountain' 'mournlng' 'murdered' 'nearby' 'needed' 'offer' 'old'\n",
      " 'outside' 'passed' 'piled' 'pilgrims' 'place' 'poison' 'poor' 'potent'\n",
      " 'raika' 'raiko' 'reached' 'remaining' 'replied' 'rice' 'robbers' 'rose'\n",
      " 'ruins' 'said' 'sake' 'samurai' 'saying' 'scornfully' 'scraps' 'second'\n",
      " 'sent' 'served' 'set' 'seven' 'shields' 'sighed' 'smoking' 'soldiers'\n",
      " 'spoils' 'stay' 'stole' 'stolen' 'storms' 'submit' 'summit' 'sword'\n",
      " 'swords' 'telling' 'thanks' 'threw' 'time' 'today' 'trouble' 've'\n",
      " 'village' 'villages' 'watched' 'way' 'weeping' 'went' 'wield' 'wind'\n",
      " 'windswept' 'wine' 'wipe' 'women' 'worn' 'worried' 'years' 'young']\n"
     ]
    },
    {
     "data": {
      "text/html": [
       "<div>\n",
       "<style scoped>\n",
       "    .dataframe tbody tr th:only-of-type {\n",
       "        vertical-align: middle;\n",
       "    }\n",
       "\n",
       "    .dataframe tbody tr th {\n",
       "        vertical-align: top;\n",
       "    }\n",
       "\n",
       "    .dataframe thead th {\n",
       "        text-align: right;\n",
       "    }\n",
       "</style>\n",
       "<table border=\"1\" class=\"dataframe\">\n",
       "  <thead>\n",
       "    <tr style=\"text-align: right;\">\n",
       "      <th></th>\n",
       "      <th>abilities</th>\n",
       "      <th>ability</th>\n",
       "      <th>able</th>\n",
       "      <th>absolve</th>\n",
       "      <th>actual</th>\n",
       "      <th>adjourning</th>\n",
       "      <th>administer</th>\n",
       "      <th>admire</th>\n",
       "      <th>admired</th>\n",
       "      <th>admiring</th>\n",
       "      <th>...</th>\n",
       "      <th>words</th>\n",
       "      <th>world</th>\n",
       "      <th>worn</th>\n",
       "      <th>worried</th>\n",
       "      <th>written</th>\n",
       "      <th>wrong</th>\n",
       "      <th>year</th>\n",
       "      <th>years</th>\n",
       "      <th>young</th>\n",
       "      <th>youth</th>\n",
       "    </tr>\n",
       "  </thead>\n",
       "  <tbody>\n",
       "    <tr>\n",
       "      <th>0</th>\n",
       "      <td>0</td>\n",
       "      <td>0</td>\n",
       "      <td>0</td>\n",
       "      <td>0</td>\n",
       "      <td>0</td>\n",
       "      <td>0</td>\n",
       "      <td>0</td>\n",
       "      <td>0</td>\n",
       "      <td>0</td>\n",
       "      <td>0</td>\n",
       "      <td>...</td>\n",
       "      <td>0</td>\n",
       "      <td>0</td>\n",
       "      <td>1</td>\n",
       "      <td>1</td>\n",
       "      <td>0</td>\n",
       "      <td>0</td>\n",
       "      <td>0</td>\n",
       "      <td>1</td>\n",
       "      <td>1</td>\n",
       "      <td>0</td>\n",
       "    </tr>\n",
       "    <tr>\n",
       "      <th>1</th>\n",
       "      <td>0</td>\n",
       "      <td>1</td>\n",
       "      <td>0</td>\n",
       "      <td>0</td>\n",
       "      <td>1</td>\n",
       "      <td>0</td>\n",
       "      <td>1</td>\n",
       "      <td>1</td>\n",
       "      <td>0</td>\n",
       "      <td>0</td>\n",
       "      <td>...</td>\n",
       "      <td>1</td>\n",
       "      <td>0</td>\n",
       "      <td>0</td>\n",
       "      <td>0</td>\n",
       "      <td>1</td>\n",
       "      <td>0</td>\n",
       "      <td>0</td>\n",
       "      <td>0</td>\n",
       "      <td>0</td>\n",
       "      <td>0</td>\n",
       "    </tr>\n",
       "    <tr>\n",
       "      <th>2</th>\n",
       "      <td>0</td>\n",
       "      <td>0</td>\n",
       "      <td>0</td>\n",
       "      <td>0</td>\n",
       "      <td>0</td>\n",
       "      <td>1</td>\n",
       "      <td>0</td>\n",
       "      <td>0</td>\n",
       "      <td>0</td>\n",
       "      <td>0</td>\n",
       "      <td>...</td>\n",
       "      <td>0</td>\n",
       "      <td>0</td>\n",
       "      <td>0</td>\n",
       "      <td>0</td>\n",
       "      <td>0</td>\n",
       "      <td>0</td>\n",
       "      <td>1</td>\n",
       "      <td>1</td>\n",
       "      <td>0</td>\n",
       "      <td>0</td>\n",
       "    </tr>\n",
       "    <tr>\n",
       "      <th>3</th>\n",
       "      <td>0</td>\n",
       "      <td>0</td>\n",
       "      <td>0</td>\n",
       "      <td>0</td>\n",
       "      <td>0</td>\n",
       "      <td>0</td>\n",
       "      <td>0</td>\n",
       "      <td>0</td>\n",
       "      <td>0</td>\n",
       "      <td>0</td>\n",
       "      <td>...</td>\n",
       "      <td>0</td>\n",
       "      <td>1</td>\n",
       "      <td>0</td>\n",
       "      <td>0</td>\n",
       "      <td>0</td>\n",
       "      <td>1</td>\n",
       "      <td>0</td>\n",
       "      <td>0</td>\n",
       "      <td>0</td>\n",
       "      <td>0</td>\n",
       "    </tr>\n",
       "    <tr>\n",
       "      <th>4</th>\n",
       "      <td>1</td>\n",
       "      <td>0</td>\n",
       "      <td>1</td>\n",
       "      <td>1</td>\n",
       "      <td>0</td>\n",
       "      <td>0</td>\n",
       "      <td>0</td>\n",
       "      <td>0</td>\n",
       "      <td>0</td>\n",
       "      <td>0</td>\n",
       "      <td>...</td>\n",
       "      <td>0</td>\n",
       "      <td>0</td>\n",
       "      <td>0</td>\n",
       "      <td>0</td>\n",
       "      <td>0</td>\n",
       "      <td>0</td>\n",
       "      <td>0</td>\n",
       "      <td>1</td>\n",
       "      <td>0</td>\n",
       "      <td>1</td>\n",
       "    </tr>\n",
       "    <tr>\n",
       "      <th>5</th>\n",
       "      <td>0</td>\n",
       "      <td>0</td>\n",
       "      <td>0</td>\n",
       "      <td>0</td>\n",
       "      <td>0</td>\n",
       "      <td>0</td>\n",
       "      <td>0</td>\n",
       "      <td>0</td>\n",
       "      <td>0</td>\n",
       "      <td>0</td>\n",
       "      <td>...</td>\n",
       "      <td>0</td>\n",
       "      <td>0</td>\n",
       "      <td>0</td>\n",
       "      <td>0</td>\n",
       "      <td>0</td>\n",
       "      <td>0</td>\n",
       "      <td>0</td>\n",
       "      <td>0</td>\n",
       "      <td>0</td>\n",
       "      <td>0</td>\n",
       "    </tr>\n",
       "    <tr>\n",
       "      <th>6</th>\n",
       "      <td>0</td>\n",
       "      <td>0</td>\n",
       "      <td>0</td>\n",
       "      <td>0</td>\n",
       "      <td>0</td>\n",
       "      <td>0</td>\n",
       "      <td>0</td>\n",
       "      <td>0</td>\n",
       "      <td>0</td>\n",
       "      <td>0</td>\n",
       "      <td>...</td>\n",
       "      <td>0</td>\n",
       "      <td>0</td>\n",
       "      <td>0</td>\n",
       "      <td>0</td>\n",
       "      <td>0</td>\n",
       "      <td>0</td>\n",
       "      <td>0</td>\n",
       "      <td>0</td>\n",
       "      <td>0</td>\n",
       "      <td>0</td>\n",
       "    </tr>\n",
       "    <tr>\n",
       "      <th>7</th>\n",
       "      <td>0</td>\n",
       "      <td>0</td>\n",
       "      <td>0</td>\n",
       "      <td>0</td>\n",
       "      <td>0</td>\n",
       "      <td>0</td>\n",
       "      <td>0</td>\n",
       "      <td>1</td>\n",
       "      <td>1</td>\n",
       "      <td>1</td>\n",
       "      <td>...</td>\n",
       "      <td>0</td>\n",
       "      <td>1</td>\n",
       "      <td>0</td>\n",
       "      <td>0</td>\n",
       "      <td>0</td>\n",
       "      <td>0</td>\n",
       "      <td>0</td>\n",
       "      <td>0</td>\n",
       "      <td>1</td>\n",
       "      <td>0</td>\n",
       "    </tr>\n",
       "  </tbody>\n",
       "</table>\n",
       "<p>8 rows × 801 columns</p>\n",
       "</div>"
      ],
      "text/plain": [
       "   abilities  ability  able  absolve  actual  adjourning  administer  admire  \\\n",
       "0          0        0     0        0       0           0           0       0   \n",
       "1          0        1     0        0       1           0           1       1   \n",
       "2          0        0     0        0       0           1           0       0   \n",
       "3          0        0     0        0       0           0           0       0   \n",
       "4          1        0     1        1       0           0           0       0   \n",
       "5          0        0     0        0       0           0           0       0   \n",
       "6          0        0     0        0       0           0           0       0   \n",
       "7          0        0     0        0       0           0           0       1   \n",
       "\n",
       "   admired  admiring  ...    words  world  worn  worried  written  wrong  \\\n",
       "0        0         0  ...        0      0     1        1        0      0   \n",
       "1        0         0  ...        1      0     0        0        1      0   \n",
       "2        0         0  ...        0      0     0        0        0      0   \n",
       "3        0         0  ...        0      1     0        0        0      1   \n",
       "4        0         0  ...        0      0     0        0        0      0   \n",
       "5        0         0  ...        0      0     0        0        0      0   \n",
       "6        0         0  ...        0      0     0        0        0      0   \n",
       "7        1         1  ...        0      1     0        0        0      0   \n",
       "\n",
       "   year  years  young  youth  \n",
       "0     0      1      1      0  \n",
       "1     0      0      0      0  \n",
       "2     1      1      0      0  \n",
       "3     0      0      0      0  \n",
       "4     0      1      0      1  \n",
       "5     0      0      0      0  \n",
       "6     0      0      0      0  \n",
       "7     0      0      1      0  \n",
       "\n",
       "[8 rows x 801 columns]"
      ]
     },
     "execution_count": 41,
     "metadata": {},
     "output_type": "execute_result"
    }
   ],
   "source": [
    "#Transfrom in to boolean term document matrix\n",
    "X = vect.transform(corpus)\n",
    "print(X.shape)\n",
    "print(X.toarray())\n",
    "print(vect.inverse_transform(X)[0])\n",
    "Doc_Term_Matrix = pd.DataFrame(X.toarray(),columns=vect.get_feature_names())\n",
    "Doc_Term_Matrix"
   ]
  },
  {
   "cell_type": "code",
   "execution_count": 42,
   "metadata": {},
   "outputs": [],
   "source": [
    "#smatrix = vect.transform(corpus) #Sparse Matrix Representation for large data sets\n",
    "#print(smatrix)"
   ]
  },
  {
   "cell_type": "code",
   "execution_count": 43,
   "metadata": {},
   "outputs": [
    {
     "data": {
      "text/plain": [
       "(8, 801)"
      ]
     },
     "execution_count": 43,
     "metadata": {},
     "output_type": "execute_result"
    }
   ],
   "source": [
    "#Get term frequency which will be used in finding similarity of the document\n",
    "from sklearn.feature_extraction.text import TfidfTransformer\n",
    "tfid_transformer = TfidfTransformer()\n",
    "X_tfidf = tfid_transformer.fit_transform(X)\n",
    "X_tfidf.shape"
   ]
  },
  {
   "cell_type": "code",
   "execution_count": 44,
   "metadata": {},
   "outputs": [
    {
     "data": {
      "text/html": [
       "<div>\n",
       "<style scoped>\n",
       "    .dataframe tbody tr th:only-of-type {\n",
       "        vertical-align: middle;\n",
       "    }\n",
       "\n",
       "    .dataframe tbody tr th {\n",
       "        vertical-align: top;\n",
       "    }\n",
       "\n",
       "    .dataframe thead th {\n",
       "        text-align: right;\n",
       "    }\n",
       "</style>\n",
       "<table border=\"1\" class=\"dataframe\">\n",
       "  <thead>\n",
       "    <tr style=\"text-align: right;\">\n",
       "      <th></th>\n",
       "      <th>abilities</th>\n",
       "      <th>ability</th>\n",
       "      <th>able</th>\n",
       "      <th>absolve</th>\n",
       "      <th>actual</th>\n",
       "      <th>adjourning</th>\n",
       "      <th>administer</th>\n",
       "      <th>admire</th>\n",
       "      <th>admired</th>\n",
       "      <th>admiring</th>\n",
       "      <th>...</th>\n",
       "      <th>words</th>\n",
       "      <th>world</th>\n",
       "      <th>worn</th>\n",
       "      <th>worried</th>\n",
       "      <th>written</th>\n",
       "      <th>wrong</th>\n",
       "      <th>year</th>\n",
       "      <th>years</th>\n",
       "      <th>young</th>\n",
       "      <th>youth</th>\n",
       "    </tr>\n",
       "  </thead>\n",
       "  <tbody>\n",
       "    <tr>\n",
       "      <th>0</th>\n",
       "      <td>0.00000</td>\n",
       "      <td>0.000000</td>\n",
       "      <td>0.00000</td>\n",
       "      <td>0.00000</td>\n",
       "      <td>0.000000</td>\n",
       "      <td>0.000000</td>\n",
       "      <td>0.000000</td>\n",
       "      <td>0.00000</td>\n",
       "      <td>0.000000</td>\n",
       "      <td>0.000000</td>\n",
       "      <td>...</td>\n",
       "      <td>0.000000</td>\n",
       "      <td>0.000000</td>\n",
       "      <td>0.086144</td>\n",
       "      <td>0.086144</td>\n",
       "      <td>0.000000</td>\n",
       "      <td>0.000000</td>\n",
       "      <td>0.000000</td>\n",
       "      <td>0.062299</td>\n",
       "      <td>0.072195</td>\n",
       "      <td>0.00000</td>\n",
       "    </tr>\n",
       "    <tr>\n",
       "      <th>1</th>\n",
       "      <td>0.00000</td>\n",
       "      <td>0.092891</td>\n",
       "      <td>0.00000</td>\n",
       "      <td>0.00000</td>\n",
       "      <td>0.092891</td>\n",
       "      <td>0.000000</td>\n",
       "      <td>0.092891</td>\n",
       "      <td>0.07785</td>\n",
       "      <td>0.000000</td>\n",
       "      <td>0.000000</td>\n",
       "      <td>...</td>\n",
       "      <td>0.092891</td>\n",
       "      <td>0.000000</td>\n",
       "      <td>0.000000</td>\n",
       "      <td>0.000000</td>\n",
       "      <td>0.092891</td>\n",
       "      <td>0.000000</td>\n",
       "      <td>0.000000</td>\n",
       "      <td>0.000000</td>\n",
       "      <td>0.000000</td>\n",
       "      <td>0.00000</td>\n",
       "    </tr>\n",
       "    <tr>\n",
       "      <th>2</th>\n",
       "      <td>0.00000</td>\n",
       "      <td>0.000000</td>\n",
       "      <td>0.00000</td>\n",
       "      <td>0.00000</td>\n",
       "      <td>0.000000</td>\n",
       "      <td>0.098994</td>\n",
       "      <td>0.000000</td>\n",
       "      <td>0.00000</td>\n",
       "      <td>0.000000</td>\n",
       "      <td>0.000000</td>\n",
       "      <td>...</td>\n",
       "      <td>0.000000</td>\n",
       "      <td>0.000000</td>\n",
       "      <td>0.000000</td>\n",
       "      <td>0.000000</td>\n",
       "      <td>0.000000</td>\n",
       "      <td>0.000000</td>\n",
       "      <td>0.098994</td>\n",
       "      <td>0.071592</td>\n",
       "      <td>0.000000</td>\n",
       "      <td>0.00000</td>\n",
       "    </tr>\n",
       "    <tr>\n",
       "      <th>3</th>\n",
       "      <td>0.00000</td>\n",
       "      <td>0.000000</td>\n",
       "      <td>0.00000</td>\n",
       "      <td>0.00000</td>\n",
       "      <td>0.000000</td>\n",
       "      <td>0.000000</td>\n",
       "      <td>0.000000</td>\n",
       "      <td>0.00000</td>\n",
       "      <td>0.000000</td>\n",
       "      <td>0.000000</td>\n",
       "      <td>...</td>\n",
       "      <td>0.000000</td>\n",
       "      <td>0.090636</td>\n",
       "      <td>0.000000</td>\n",
       "      <td>0.000000</td>\n",
       "      <td>0.000000</td>\n",
       "      <td>0.108148</td>\n",
       "      <td>0.000000</td>\n",
       "      <td>0.000000</td>\n",
       "      <td>0.000000</td>\n",
       "      <td>0.00000</td>\n",
       "    </tr>\n",
       "    <tr>\n",
       "      <th>4</th>\n",
       "      <td>0.09137</td>\n",
       "      <td>0.000000</td>\n",
       "      <td>0.09137</td>\n",
       "      <td>0.09137</td>\n",
       "      <td>0.000000</td>\n",
       "      <td>0.000000</td>\n",
       "      <td>0.000000</td>\n",
       "      <td>0.00000</td>\n",
       "      <td>0.000000</td>\n",
       "      <td>0.000000</td>\n",
       "      <td>...</td>\n",
       "      <td>0.000000</td>\n",
       "      <td>0.000000</td>\n",
       "      <td>0.000000</td>\n",
       "      <td>0.000000</td>\n",
       "      <td>0.000000</td>\n",
       "      <td>0.000000</td>\n",
       "      <td>0.000000</td>\n",
       "      <td>0.066078</td>\n",
       "      <td>0.000000</td>\n",
       "      <td>0.09137</td>\n",
       "    </tr>\n",
       "    <tr>\n",
       "      <th>5</th>\n",
       "      <td>0.00000</td>\n",
       "      <td>0.000000</td>\n",
       "      <td>0.00000</td>\n",
       "      <td>0.00000</td>\n",
       "      <td>0.000000</td>\n",
       "      <td>0.000000</td>\n",
       "      <td>0.000000</td>\n",
       "      <td>0.00000</td>\n",
       "      <td>0.000000</td>\n",
       "      <td>0.000000</td>\n",
       "      <td>...</td>\n",
       "      <td>0.000000</td>\n",
       "      <td>0.000000</td>\n",
       "      <td>0.000000</td>\n",
       "      <td>0.000000</td>\n",
       "      <td>0.000000</td>\n",
       "      <td>0.000000</td>\n",
       "      <td>0.000000</td>\n",
       "      <td>0.000000</td>\n",
       "      <td>0.000000</td>\n",
       "      <td>0.00000</td>\n",
       "    </tr>\n",
       "    <tr>\n",
       "      <th>6</th>\n",
       "      <td>0.00000</td>\n",
       "      <td>0.000000</td>\n",
       "      <td>0.00000</td>\n",
       "      <td>0.00000</td>\n",
       "      <td>0.000000</td>\n",
       "      <td>0.000000</td>\n",
       "      <td>0.000000</td>\n",
       "      <td>0.00000</td>\n",
       "      <td>0.000000</td>\n",
       "      <td>0.000000</td>\n",
       "      <td>...</td>\n",
       "      <td>0.000000</td>\n",
       "      <td>0.000000</td>\n",
       "      <td>0.000000</td>\n",
       "      <td>0.000000</td>\n",
       "      <td>0.000000</td>\n",
       "      <td>0.000000</td>\n",
       "      <td>0.000000</td>\n",
       "      <td>0.000000</td>\n",
       "      <td>0.000000</td>\n",
       "      <td>0.00000</td>\n",
       "    </tr>\n",
       "    <tr>\n",
       "      <th>7</th>\n",
       "      <td>0.00000</td>\n",
       "      <td>0.000000</td>\n",
       "      <td>0.00000</td>\n",
       "      <td>0.00000</td>\n",
       "      <td>0.000000</td>\n",
       "      <td>0.000000</td>\n",
       "      <td>0.000000</td>\n",
       "      <td>0.09569</td>\n",
       "      <td>0.114178</td>\n",
       "      <td>0.114178</td>\n",
       "      <td>...</td>\n",
       "      <td>0.000000</td>\n",
       "      <td>0.095690</td>\n",
       "      <td>0.000000</td>\n",
       "      <td>0.000000</td>\n",
       "      <td>0.000000</td>\n",
       "      <td>0.000000</td>\n",
       "      <td>0.000000</td>\n",
       "      <td>0.000000</td>\n",
       "      <td>0.095690</td>\n",
       "      <td>0.00000</td>\n",
       "    </tr>\n",
       "  </tbody>\n",
       "</table>\n",
       "<p>8 rows × 801 columns</p>\n",
       "</div>"
      ],
      "text/plain": [
       "   abilities   ability     able  absolve    actual  adjourning  administer  \\\n",
       "0    0.00000  0.000000  0.00000  0.00000  0.000000    0.000000    0.000000   \n",
       "1    0.00000  0.092891  0.00000  0.00000  0.092891    0.000000    0.092891   \n",
       "2    0.00000  0.000000  0.00000  0.00000  0.000000    0.098994    0.000000   \n",
       "3    0.00000  0.000000  0.00000  0.00000  0.000000    0.000000    0.000000   \n",
       "4    0.09137  0.000000  0.09137  0.09137  0.000000    0.000000    0.000000   \n",
       "5    0.00000  0.000000  0.00000  0.00000  0.000000    0.000000    0.000000   \n",
       "6    0.00000  0.000000  0.00000  0.00000  0.000000    0.000000    0.000000   \n",
       "7    0.00000  0.000000  0.00000  0.00000  0.000000    0.000000    0.000000   \n",
       "\n",
       "    admire   admired  admiring   ...        words     world      worn  \\\n",
       "0  0.00000  0.000000  0.000000   ...     0.000000  0.000000  0.086144   \n",
       "1  0.07785  0.000000  0.000000   ...     0.092891  0.000000  0.000000   \n",
       "2  0.00000  0.000000  0.000000   ...     0.000000  0.000000  0.000000   \n",
       "3  0.00000  0.000000  0.000000   ...     0.000000  0.090636  0.000000   \n",
       "4  0.00000  0.000000  0.000000   ...     0.000000  0.000000  0.000000   \n",
       "5  0.00000  0.000000  0.000000   ...     0.000000  0.000000  0.000000   \n",
       "6  0.00000  0.000000  0.000000   ...     0.000000  0.000000  0.000000   \n",
       "7  0.09569  0.114178  0.114178   ...     0.000000  0.095690  0.000000   \n",
       "\n",
       "    worried   written     wrong      year     years     young    youth  \n",
       "0  0.086144  0.000000  0.000000  0.000000  0.062299  0.072195  0.00000  \n",
       "1  0.000000  0.092891  0.000000  0.000000  0.000000  0.000000  0.00000  \n",
       "2  0.000000  0.000000  0.000000  0.098994  0.071592  0.000000  0.00000  \n",
       "3  0.000000  0.000000  0.108148  0.000000  0.000000  0.000000  0.00000  \n",
       "4  0.000000  0.000000  0.000000  0.000000  0.066078  0.000000  0.09137  \n",
       "5  0.000000  0.000000  0.000000  0.000000  0.000000  0.000000  0.00000  \n",
       "6  0.000000  0.000000  0.000000  0.000000  0.000000  0.000000  0.00000  \n",
       "7  0.000000  0.000000  0.000000  0.000000  0.000000  0.095690  0.00000  \n",
       "\n",
       "[8 rows x 801 columns]"
      ]
     },
     "execution_count": 44,
     "metadata": {},
     "output_type": "execute_result"
    }
   ],
   "source": [
    "Doc_tfidf_Matrix = pd.DataFrame(X_tfidf.toarray(),columns=vect.get_feature_names())\n",
    "Doc_tfidf_Matrix"
   ]
  },
  {
   "cell_type": "code",
   "execution_count": 45,
   "metadata": {},
   "outputs": [
    {
     "name": "stdout",
     "output_type": "stream",
     "text": [
      "[[1.         0.04219423 0.05021419 0.03739253 0.03362705 0.06552548\n",
      "  0.02739223 0.04278459]\n",
      " [0.04219423 1.         0.07378644 0.05413368 0.01040036 0.06209962\n",
      "  0.04670387 0.05404441]\n",
      " [0.05021419 0.07378644 1.         0.03804067 0.03136999 0.09192771\n",
      "  0.03147843 0.03038427]\n",
      " [0.03739253 0.05413368 0.03804067 1.         0.06997837 0.06217904\n",
      "  0.07932343 0.05257289]\n",
      " [0.03362705 0.01040036 0.03136999 0.06997837 1.         0.02006693\n",
      "  0.01536045 0.02931008]\n",
      " [0.06552548 0.06209962 0.09192771 0.06217904 0.02006693 1.\n",
      "  0.05964191 0.03012697]\n",
      " [0.02739223 0.04670387 0.03147843 0.07932343 0.01536045 0.05964191\n",
      "  1.         0.03457844]\n",
      " [0.04278459 0.05404441 0.03038427 0.05257289 0.02931008 0.03012697\n",
      "  0.03457844 1.        ]]\n"
     ]
    }
   ],
   "source": [
    "#Cosine similiaryt of the document\n",
    "from sklearn.metrics.pairwise import cosine_similarity\n",
    "similarity = cosine_similarity(X_tfidf,X_tfidf)\n",
    "print(similarity)\n",
    "#similarity = cosine_similarity(X_tfidf[0:1],X_tfidf)\n",
    "#first row of the sparse matrix and the resulting array is the Cosine Similarity between the \n",
    "#first document with all documents in the set. \n",
    "#Note that the first value of the array is 1.0 because it is the \n",
    "#Cosine Similarity between the first document with itself. "
   ]
  },
  {
   "cell_type": "code",
   "execution_count": 46,
   "metadata": {},
   "outputs": [
    {
     "data": {
      "text/plain": [
       "<matplotlib.axes._subplots.AxesSubplot at 0x5533be0>"
      ]
     },
     "execution_count": 46,
     "metadata": {},
     "output_type": "execute_result"
    },
    {
     "data": {
      "image/png": "[encoded data removed]",
      "text/plain": [
       "<Figure size 432x288 with 2 Axes>"
      ]
     },
     "metadata": {},
     "output_type": "display_data"
    }
   ],
   "source": [
    "#Heatmap to print out the similariy of the document\n",
    "import seaborn as sns\n",
    "sns.heatmap(similarity,annot=True)"
   ]
  },
  {
   "cell_type": "code",
   "execution_count": null,
   "metadata": {},
   "outputs": [],
   "source": []
  },
  {
   "cell_type": "code",
   "execution_count": null,
   "metadata": {},
   "outputs": [],
   "source": []
  }
 ],
 "metadata": {
  "kernelspec": {
   "display_name": "Python 3",
   "language": "python",
   "name": "python3"
  },
  "language_info": {
   "codemirror_mode": {
    "name": "ipython",
    "version": 3
   },
   "file_extension": ".py",
   "mimetype": "text/x-python",
   "name": "python",
   "nbconvert_exporter": "python",
   "pygments_lexer": "ipython3",
   "version": "3.6.5"
  }
 },
 "nbformat": 4,
 "nbformat_minor": 2
}
