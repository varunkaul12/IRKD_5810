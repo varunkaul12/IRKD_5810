{
 "cells": [
  {
   "cell_type": "markdown",
   "metadata": {},
   "source": [
    "# Assignment 2 "
   ]
  },
  {
   "cell_type": "code",
   "execution_count": 8,
   "metadata": {},
   "outputs": [],
   "source": [
    "import numpy as np\n",
    "import matplotlib.pyplot as plt\n",
    "%matplotlib inline\n",
    "from scipy.spatial import distance\n",
    "from numpy.linalg import inv"
   ]
  },
  {
   "cell_type": "markdown",
   "metadata": {},
   "source": [
    "##### A. Generate 100 3-dimensional vectors that come from a normal distribution with  mean vector as [1 2 1]t and 3x3 covariance matrix as\n",
    "##### [5 0.8 -0.3; 0.8 3 0.6; -0.3 0.6 4]"
   ]
  },
  {
   "cell_type": "code",
   "execution_count": 9,
   "metadata": {},
   "outputs": [],
   "source": [
    "mean = np.array([1,2,1]).T\n",
    "cov = np.array([[5,0.8,-0.3],[0.8,3,0.6],[-0.3,0.6,4]])\n",
    "x, y ,z = np.random.multivariate_normal(mean, cov, 100).T"
   ]
  },
  {
   "cell_type": "code",
   "execution_count": 10,
   "metadata": {},
   "outputs": [
    {
     "name": "stdout",
     "output_type": "stream",
     "text": [
      "[-3.04588203  3.48710237  1.56414497 -0.23378795  6.05052476  1.33609118\n",
      " -2.52249349  3.0829322   0.27494672  1.71495355 -0.92053413  1.54514359\n",
      "  3.1023426  -1.57599215  1.3450539   5.36944172  4.68760394 -0.85216466\n",
      "  2.91863083  1.56531881 -0.48057526  0.69523417  0.0918279  -2.95647222\n",
      "  0.4741824   3.22105335  0.31730574  4.89402421 -0.95747722  3.58460802\n",
      "  0.21250457  0.67600026  1.35482432 -0.79979603  0.66451957  3.02478489\n",
      " -1.75004175 -0.30150956  1.51387399  4.53980533  1.61048686  0.46850224\n",
      "  4.15385041  1.84074628  5.09902048  4.10350569  3.98894617 -5.96958783\n",
      "  1.80170708  5.5285586  -2.32969996  1.01702677  2.64545256 -1.38944355\n",
      "  5.75455452  3.29839132  2.30362923  0.13535528  2.6851789  -0.18108228\n",
      "  2.14140015  2.63610834 -0.66996402  2.32996272 -2.02637295 -0.34670982\n",
      "  2.46028662  4.81746765  1.03958296  3.59232295 -0.15606437  1.78385777\n",
      "  1.93470172 -0.61070061  1.3761057   0.62793521  1.71887816  2.02794649\n",
      " -4.54210544 -0.93094993  2.62016106  5.0570261  -0.56036507  0.80895928\n",
      "  1.77200605  1.12626556  2.94828828 -0.07423031  2.09804647  1.21595359\n",
      " -3.39889408 -0.09798288  1.53088364 -2.4077015   4.14180965  3.72109103\n",
      "  0.8495252  -0.31262062  1.65560043  3.98612267] [ 3.62438695  5.35694291 -0.51183684  2.21550511 -1.40225057  1.54985212\n",
      "  1.29208404  2.17538104 -1.69199752  1.45804476  0.21033398  1.23043012\n",
      "  2.15758661  4.38334769  1.52486702  0.41892837  2.53336629  1.67151432\n",
      "  3.01782068  4.55934311 -0.89638494  3.02959968  2.14255038 -0.50250357\n",
      "  1.05570049  3.80437683  1.21235548  2.39700597 -1.65122703 -1.58582193\n",
      "  3.36393394  2.66557552  3.16512302  3.68739205 -0.16370005 -1.22617222\n",
      "  1.24917888  0.95093239  4.21671517  1.71424682  3.06688278  2.23253796\n",
      "  4.19156414  1.02104139  4.33934968 -0.36669563  3.77826855  3.97197687\n",
      "  1.08725956  0.99768964  1.66941121  0.52213898  1.15013912  1.16812075\n",
      "  2.47581031  1.72683644 -0.07318747  4.44977018  6.19272312  5.09416673\n",
      "  0.99735421  1.83599834  2.02305333  0.64207089  4.28830436  3.15932488\n",
      "  4.42062862  2.7319491   2.31348198  0.41135804 -0.70210415  2.17536289\n",
      "  2.09545483  0.57965744  0.13992858 -2.68060471  6.07134569  1.59991634\n",
      "  4.18394878  3.23279692 -0.51422971  4.83891144  3.28961362  2.31838323\n",
      "  4.29429838 -1.35809486  3.44410279  0.36972675  3.50092803  1.14092415\n",
      " -0.78013861  2.41908464  2.8442184   2.17172666  2.60227154  3.164957\n",
      "  6.08686147  3.18709624  3.15119576  4.11538742] [ 3.1591223   2.56387157 -0.58555729 -0.63843798 -1.38098942  0.01287435\n",
      " -1.8283347   1.81535547  3.81252903 -1.25130852 -1.59901926 -3.2812373\n",
      "  2.62468519 -2.88891941 -1.44725306 -1.06548212  1.26381216  0.03208666\n",
      "  2.85968353  4.32470477  1.12379179  1.21803736 -0.17611293  1.68402132\n",
      "  3.24050138  0.57315258 -0.52281694  0.92012786 -2.22026881  0.46559392\n",
      "  4.53234152  4.31324169  1.47165809  2.6504508   2.36323249  0.437655\n",
      "  4.862943    3.01953137  0.79704722 -1.40490313  3.00212005  1.52620943\n",
      " -2.9159042   1.7213611   1.63944332  1.13576401  3.12842851  2.40373633\n",
      "  2.62324296  0.80372471  1.57146823  2.1012065  -2.01735142  1.02134166\n",
      "  0.41430119 -3.78793537 -0.1027241   2.70258867 -3.71543783  3.68499474\n",
      " -0.71395558 -0.4624691   1.36769955  1.35528202  1.70856144  0.70430774\n",
      "  0.75505764  0.04641419  0.05735424 -1.88872992 -0.14066466  2.05256289\n",
      "  4.19912529  2.59884737  4.87191343  2.99876706  3.17622493  0.22178483\n",
      "  0.51419805 -0.05091237  3.82191013  5.05833543 -0.15992151 -1.29061173\n",
      "  2.81969293  0.65986348  2.00645266  0.28408356 -2.37696548 -0.66365429\n",
      " -0.67510935  1.01494648  1.70026389  1.97654901  2.40695833 -1.81860228\n",
      "  6.28275315  1.32917901  0.99812598  3.36389656]\n"
     ]
    }
   ],
   "source": [
    "print(x,y,z)"
   ]
  },
  {
   "cell_type": "markdown",
   "metadata": {},
   "source": [
    "##### B. Make scatter plots of x1 vs x2, x1 vs x3, and x2 vs x3. Explain whatever relationships you can gather from these plots."
   ]
  },
  {
   "cell_type": "code",
   "execution_count": 11,
   "metadata": {},
   "outputs": [
    {
     "data": {
      "text/plain": [
       "array([[1.        , 0.02673977],\n",
       "       [0.02673977, 1.        ]])"
      ]
     },
     "execution_count": 11,
     "metadata": {},
     "output_type": "execute_result"
    },
    {
     "data": {
      "image/png": "[encoded data removed]",
      "text/plain": [
       "<Figure size 432x288 with 1 Axes>"
      ]
     },
     "metadata": {},
     "output_type": "display_data"
    }
   ],
   "source": [
    "plt.scatter(x, y)\n",
    "np.corrcoef(x, y)"
   ]
  },
  {
   "cell_type": "markdown",
   "metadata": {},
   "source": [
    "##### => You can see the plot for X , Y above and i have printed the correlation coefficient which is low and positive which how they are related to each  other "
   ]
  },
  {
   "cell_type": "code",
   "execution_count": 12,
   "metadata": {},
   "outputs": [
    {
     "data": {
      "text/plain": [
       "array([[ 1.        , -0.09741592],\n",
       "       [-0.09741592,  1.        ]])"
      ]
     },
     "execution_count": 12,
     "metadata": {},
     "output_type": "execute_result"
    },
    {
     "data": {
      "image/png": "[encoded data removed]",
      "text/plain": [
       "<Figure size 432x288 with 1 Axes>"
      ]
     },
     "metadata": {},
     "output_type": "display_data"
    }
   ],
   "source": [
    "plt.scatter(x,z)\n",
    "np.corrcoef(x,z)"
   ]
  },
  {
   "cell_type": "markdown",
   "metadata": {},
   "source": [
    "##### => You can see the plot for X , Z below and i have printed the correlation coefficient which is low and positive which how they are related to each  other "
   ]
  },
  {
   "cell_type": "code",
   "execution_count": 13,
   "metadata": {},
   "outputs": [
    {
     "data": {
      "text/plain": [
       "array([[1.        , 0.18271913],\n",
       "       [0.18271913, 1.        ]])"
      ]
     },
     "execution_count": 13,
     "metadata": {},
     "output_type": "execute_result"
    },
    {
     "data": {
      "image/png": "[encoded data removed]",
      "text/plain": [
       "<Figure size 432x288 with 1 Axes>"
      ]
     },
     "metadata": {},
     "output_type": "display_data"
    }
   ],
   "source": [
    "plt.scatter(y,z)\n",
    "np.corrcoef(y,z)"
   ]
  },
  {
   "cell_type": "markdown",
   "metadata": {},
   "source": [
    "##### => You can see the plot for Y , Z below and i have printed the correlation coefficient which is low and positive which how they are related to each  other "
   ]
  },
  {
   "cell_type": "markdown",
   "metadata": {},
   "source": [
    "#### 3.Pick any 5 pairs of generated vectors and calculate the Euclidean and Mahalanobis distances between those pairs."
   ]
  },
  {
   "cell_type": "code",
   "execution_count": 14,
   "metadata": {},
   "outputs": [
    {
     "name": "stdout",
     "output_type": "stream",
     "text": [
      "8.481143559778156\n",
      "3.9105289499254243\n",
      "5.944619007011023\n",
      "5.195698627369636\n",
      "3.079751233173194\n"
     ]
    }
   ],
   "source": [
    "print(distance.euclidean([x[1],y[1],z[1]],[x[6],y[6],z[6]]))\n",
    "print(distance.euclidean([x[2],y[2],z[2]],[x[7],y[7],z[7]]))\n",
    "print(distance.euclidean([x[3],y[3],z[3]],[x[8],y[8],z[8]]))\n",
    "print(distance.euclidean([x[4],y[4],z[4]],[x[9],y[9],z[9]]))\n",
    "print(distance.euclidean([x[5],y[5],z[5]],[x[10],y[10],z[10]]))"
   ]
  },
  {
   "cell_type": "code",
   "execution_count": 15,
   "metadata": {},
   "outputs": [
    {
     "name": "stdout",
     "output_type": "stream",
     "text": [
      "3.8546031019906297\n",
      "1.8770274954093895\n",
      "3.625186478089185\n",
      "2.8955078096582114\n",
      "1.399760654897601\n"
     ]
    }
   ],
   "source": [
    "ainv = inv(cov)\n",
    "print(distance.mahalanobis([x[1],y[1],z[1]],[x[6],y[6],z[6]],ainv))\n",
    "print(distance.mahalanobis([x[2],y[2],z[2]],[x[7],y[7],z[7]],ainv))\n",
    "print(distance.mahalanobis([x[3],y[3],z[3]],[x[8],y[8],z[8]],ainv))\n",
    "print(distance.mahalanobis([x[4],y[4],z[4]],[x[9],y[9],z[9]],ainv))\n",
    "print(distance.mahalanobis([x[5],y[5],z[5]],[x[10],y[10],z[10]],ainv))"
   ]
  }
 ],
 "metadata": {
  "kernelspec": {
   "display_name": "Python 3",
   "language": "python",
   "name": "python3"
  },
  "language_info": {
   "codemirror_mode": {
    "name": "ipython",
    "version": 3
   },
   "file_extension": ".py",
   "mimetype": "text/x-python",
   "name": "python",
   "nbconvert_exporter": "python",
   "pygments_lexer": "ipython3",
   "version": "3.6.5"
  }
 },
 "nbformat": 4,
 "nbformat_minor": 2
}
