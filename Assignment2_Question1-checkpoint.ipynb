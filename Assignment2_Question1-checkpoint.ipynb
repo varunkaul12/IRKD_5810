{
 "cells": [
  {
   "cell_type": "markdown",
   "metadata": {},
   "source": [
    "### Question A:\n",
    "An information retrieval system has a certain pair of average precision and recall values when the system returns \n",
    "10 documents in response queries. \n",
    "Would the precision and recall rate remain unchanged if the system were modified \n",
    "to return 20 documents in response to queries? \n",
    "Explain your answer.\n",
    "###### Answer.\n",
    "precision = Called as positive predictive value as it is the fraction of relevant documents among the retrieved instances,\n",
    "Recall = Called as sensitivity as it is the fraction of relevant instances that have been retrieved over the total amount of relevant instances. \n",
    "\n",
    "Therefore both of them are dependent on the amount of documents retrieved in response queries,\n",
    "as both precision and recall will change based on how many are positively predicted which would change the recall value.\n",
    "Thus, Precision and Recall are inversely related. So, in the case where 20 documents are retrieved,\n",
    "instead of 10, we are increasing the number of retrieved documents. This will decrease the Precision\n",
    "and increase the Recall for the system.\n",
    "\n",
    "### Question B:\n",
    "A system retrieves 20 documents with precision being 80% and recall being 50% for a given query. \n",
    "What is the number of relevant documents that are not retrieved by the system?\n",
    "##### Answer:\n",
    "Precision = 80 %\n",
    "Recall = 50 %\n",
    "\n",
    "Retrieved-Documents = 20\n",
    "Precision = Relevant-Documents / Retrieved-Documents\n",
    "0.8 = Relevant-Documents / 20\n",
    "Relevant-Documents = 0.8 * 20 = 16\n",
    "\n",
    "Recall = Relevant-Documents / All-Relevant-Documents\n",
    "0.5 = 16 / All-Relevant-Documents\n",
    "\n",
    "All-Relevant-Documents = 16 / 0.5 = 32\n",
    "Thus, \n",
    "Relevant-Documents-Not-Retrieved [Relevant-Documents-Not-Retrieved = All-Relevant-Documents – Relevant-Documents]:\n",
    "Relevant-Documents-Not-Retrieved = 32 – 20 = 12"
   ]
  },
  {
   "cell_type": "code",
   "execution_count": null,
   "metadata": {},
   "outputs": [],
   "source": []
  },
  {
   "cell_type": "code",
   "execution_count": null,
   "metadata": {},
   "outputs": [],
   "source": []
  },
  {
   "cell_type": "markdown",
   "metadata": {},
   "source": []
  }
 ],
 "metadata": {
  "kernelspec": {
   "display_name": "Python 3",
   "language": "python",
   "name": "python3"
  },
  "language_info": {
   "codemirror_mode": {
    "name": "ipython",
    "version": 3
   },
   "file_extension": ".py",
   "mimetype": "text/x-python",
   "name": "python",
   "nbconvert_exporter": "python",
   "pygments_lexer": "ipython3",
   "version": "3.6.5"
  }
 },
 "nbformat": 4,
 "nbformat_minor": 2
}
